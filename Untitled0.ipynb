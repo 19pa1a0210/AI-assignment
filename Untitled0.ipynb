{
  "nbformat": 4,
  "nbformat_minor": 0,
  "metadata": {
    "colab": {
      "name": "Untitled0.ipynb",
      "provenance": [],
      "authorship_tag": "ABX9TyNArDL1qCa4Q9bNX7Jen0Aq",
      "include_colab_link": true
    },
    "kernelspec": {
      "name": "python3",
      "display_name": "Python 3"
    }
  },
  "cells": [
    {
      "cell_type": "markdown",
      "metadata": {
        "id": "view-in-github",
        "colab_type": "text"
      },
      "source": [
        "<a href=\"https://colab.research.google.com/github/19pa1a0210/AI-assignment/blob/master/Untitled0.ipynb\" target=\"_parent\"><img src=\"https://colab.research.google.com/assets/colab-badge.svg\" alt=\"Open In Colab\"/></a>"
      ]
    },
    {
      "cell_type": "code",
      "metadata": {
        "id": "bg0zbDPkkgFR",
        "colab_type": "code",
        "colab": {}
      },
      "source": [
        ""
      ],
      "execution_count": null,
      "outputs": []
    },
    {
      "cell_type": "markdown",
      "metadata": {
        "id": "Xl54ridAkiZ3",
        "colab_type": "text"
      },
      "source": [
        "Experiment-1"
      ]
    },
    {
      "cell_type": "markdown",
      "metadata": {
        "id": "kTh7zXPSkwwI",
        "colab_type": "text"
      },
      "source": [
        "1) Different ways to create Numpy array."
      ]
    },
    {
      "cell_type": "code",
      "metadata": {
        "id": "VzF8fRFYk-69",
        "colab_type": "code",
        "colab": {
          "base_uri": "https://localhost:8080/",
          "height": 35
        },
        "outputId": "91c39eff-fab1-40a6-ece7-448fc7297ba7"
      },
      "source": [
        "import numpy as np \n",
        "a = np.array([1,3,5])\n",
        "print(a)"
      ],
      "execution_count": null,
      "outputs": [
        {
          "output_type": "stream",
          "text": [
            "[1 3 5]\n"
          ],
          "name": "stdout"
        }
      ]
    },
    {
      "cell_type": "code",
      "metadata": {
        "id": "AU4bKZUUlbac",
        "colab_type": "code",
        "colab": {
          "base_uri": "https://localhost:8080/",
          "height": 53
        },
        "outputId": "c8497565-04f9-472a-9b76-7eeb61eed4b4"
      },
      "source": [
        "s = np.array([(1,3,5),(4,9,6)])\n",
        "print(s)"
      ],
      "execution_count": null,
      "outputs": [
        {
          "output_type": "stream",
          "text": [
            "[[1 3 5]\n",
            " [4 9 6]]\n"
          ],
          "name": "stdout"
        }
      ]
    },
    {
      "cell_type": "markdown",
      "metadata": {
        "id": "VLbU1VJQl2gJ",
        "colab_type": "text"
      },
      "source": [
        "2)Add,remove,modify elements in an array"
      ]
    },
    {
      "cell_type": "code",
      "metadata": {
        "id": "FKbyAyVmmC1x",
        "colab_type": "code",
        "colab": {
          "base_uri": "https://localhost:8080/",
          "height": 35
        },
        "outputId": "29d151d6-250f-4c45-abd6-94aab4d7add5"
      },
      "source": [
        "b = np.append(a,[4,8,9])\n",
        "print(b)"
      ],
      "execution_count": null,
      "outputs": [
        {
          "output_type": "stream",
          "text": [
            "[1 3 5 4 8 9]\n"
          ],
          "name": "stdout"
        }
      ]
    },
    {
      "cell_type": "code",
      "metadata": {
        "id": "K7nLg-8hmn7k",
        "colab_type": "code",
        "colab": {
          "base_uri": "https://localhost:8080/",
          "height": 35
        },
        "outputId": "4f6114d2-9102-4b82-8a19-26a92541ce3b"
      },
      "source": [
        "q = np.delete(a,2)\n",
        "print(q)"
      ],
      "execution_count": null,
      "outputs": [
        {
          "output_type": "stream",
          "text": [
            "[1 3]\n"
          ],
          "name": "stdout"
        }
      ]
    },
    {
      "cell_type": "code",
      "metadata": {
        "id": "ufUlnHElnD1E",
        "colab_type": "code",
        "colab": {
          "base_uri": "https://localhost:8080/",
          "height": 35
        },
        "outputId": "55edb7b8-380b-4285-fd2f-5feda9134c26"
      },
      "source": [
        "b = np.array([6,5,4,1,6,3])\n",
        "b[b<2]=-1\n",
        "print(b)"
      ],
      "execution_count": null,
      "outputs": [
        {
          "output_type": "stream",
          "text": [
            "[ 6  5  4 -1  6  3]\n"
          ],
          "name": "stdout"
        }
      ]
    },
    {
      "cell_type": "markdown",
      "metadata": {
        "id": "fyJEF8mxnzSe",
        "colab_type": "text"
      },
      "source": [
        "3)Arthematic operations on Numpy array"
      ]
    },
    {
      "cell_type": "code",
      "metadata": {
        "id": "kscWa3-pn-vm",
        "colab_type": "code",
        "colab": {}
      },
      "source": [
        "m = np.random.random((3,3))\n",
        "n = np.random.random((3,3))\n",
        "sum = np.add(m,n)\n",
        "diff = np.subtract(m,n)\n",
        "prod = np.multiply(m,n)\n",
        "quo = np.divide(m,n)\n",
        "mod = np.mod(m,n)\n",
        "pow = np.power(m,n)\n",
        "print(sum)\n",
        "print(diff)\n",
        "print(prod)\n",
        "print(quo)\n",
        "print(mod)\n",
        "print(pow)"
      ],
      "execution_count": null,
      "outputs": []
    },
    {
      "cell_type": "markdown",
      "metadata": {
        "id": "qp2HwFmap1B_",
        "colab_type": "text"
      },
      "source": [
        "4)Slicing and iterating on Numpy array"
      ]
    },
    {
      "cell_type": "markdown",
      "metadata": {
        "id": "4Y89sPoFp-Pz",
        "colab_type": "text"
      },
      "source": [
        "Slicing"
      ]
    },
    {
      "cell_type": "code",
      "metadata": {
        "id": "2lGe_XPfqADg",
        "colab_type": "code",
        "colab": {
          "base_uri": "https://localhost:8080/",
          "height": 35
        },
        "outputId": "45d2b5bd-9568-4d3a-f5f8-9995f4658781"
      },
      "source": [
        "arr = np.array([3,5,6,7,8,9,5])\n",
        "print(arr[3:6])"
      ],
      "execution_count": null,
      "outputs": [
        {
          "output_type": "stream",
          "text": [
            "[7 8 9]\n"
          ],
          "name": "stdout"
        }
      ]
    },
    {
      "cell_type": "markdown",
      "metadata": {
        "id": "966sdBx5qWaI",
        "colab_type": "text"
      },
      "source": [
        "iterating"
      ]
    },
    {
      "cell_type": "code",
      "metadata": {
        "id": "9v3Nc8IRqY6e",
        "colab_type": "code",
        "colab": {
          "base_uri": "https://localhost:8080/",
          "height": 143
        },
        "outputId": "08595974-ad1f-4f03-f8a7-54fbd3abc64b"
      },
      "source": [
        "for x in arr:\n",
        "   print(x)"
      ],
      "execution_count": null,
      "outputs": [
        {
          "output_type": "stream",
          "text": [
            "3\n",
            "5\n",
            "6\n",
            "7\n",
            "8\n",
            "9\n",
            "5\n"
          ],
          "name": "stdout"
        }
      ]
    },
    {
      "cell_type": "markdown",
      "metadata": {
        "id": "T5TjSpr0qsgx",
        "colab_type": "text"
      },
      "source": [
        "5)Matrix operation on Numpy array"
      ]
    },
    {
      "cell_type": "code",
      "metadata": {
        "id": "zOKlzI4wqy0o",
        "colab_type": "code",
        "colab": {
          "base_uri": "https://localhost:8080/",
          "height": 161
        },
        "outputId": "c9094be9-9c98-4bf4-9204-33721b56cfa1"
      },
      "source": [
        "import numpy as np\n",
        "x = np.array([(4,5),(6,8)])\n",
        "y = np.array([(3,6),(6,9)])\n",
        "print(np.add(x,y))\n",
        "print(np.subtract(x,y))\n",
        "print(np.divide(x,y))\n",
        "print(np.multiply(x,y))"
      ],
      "execution_count": null,
      "outputs": [
        {
          "output_type": "stream",
          "text": [
            "[[ 7 11]\n",
            " [12 17]]\n",
            "[[ 1 -1]\n",
            " [ 0 -1]]\n",
            "[[1.33333333 0.83333333]\n",
            " [1.         0.88888889]]\n",
            "[[12 30]\n",
            " [36 72]]\n"
          ],
          "name": "stdout"
        }
      ]
    }
  ]
}